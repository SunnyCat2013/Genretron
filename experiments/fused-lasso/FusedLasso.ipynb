{
 "metadata": {
  "name": ""
 },
 "nbformat": 3,
 "nbformat_minor": 0,
 "worksheets": [
  {
   "cells": [
    {
     "cell_type": "markdown",
     "metadata": {},
     "source": [
      "#Fused Lasso\n",
      "##First order discrete difference\n",
      "###[numpy.diff](http://docs.scipy.org/doc/numpy-1.10.0/reference/generated/numpy.diff.html)"
     ]
    },
    {
     "cell_type": "code",
     "collapsed": false,
     "input": [
      "import numpy as np\n",
      "W = np.random.random((5, 5))\n",
      "W # weights"
     ],
     "language": "python",
     "metadata": {},
     "outputs": [
      {
       "metadata": {},
       "output_type": "pyout",
       "prompt_number": 1,
       "text": [
        "array([[ 0.12074833,  0.35652423,  0.08391276,  0.20303962,  0.7961602 ],\n",
        "       [ 0.61050849,  0.02854119,  0.10090196,  0.94610956,  0.22093744],\n",
        "       [ 0.52980977,  0.59461721,  0.95512825,  0.43667981,  0.19531473],\n",
        "       [ 0.49512629,  0.99535544,  0.51142735,  0.11546645,  0.9051506 ],\n",
        "       [ 0.74512648,  0.32961415,  0.68163506,  0.30876057,  0.45578411]])"
       ]
      }
     ],
     "prompt_number": 1
    },
    {
     "cell_type": "code",
     "collapsed": false,
     "input": [
      "np.diff(W, axis=-1) # expected row-wise result"
     ],
     "language": "python",
     "metadata": {},
     "outputs": [
      {
       "metadata": {},
       "output_type": "pyout",
       "prompt_number": 2,
       "text": [
        "array([[ 0.2357759 , -0.27261147,  0.11912687,  0.59312057],\n",
        "       [-0.5819673 ,  0.07236077,  0.8452076 , -0.72517212],\n",
        "       [ 0.06480745,  0.36051104, -0.51844845, -0.24136508],\n",
        "       [ 0.50022915, -0.48392809, -0.3959609 ,  0.78968415],\n",
        "       [-0.41551233,  0.3520209 , -0.37287448,  0.14702354]])"
       ]
      }
     ],
     "prompt_number": 2
    },
    {
     "cell_type": "code",
     "collapsed": false,
     "input": [
      "np.diff(W, axis=0)"
     ],
     "language": "python",
     "metadata": {},
     "outputs": [
      {
       "metadata": {},
       "output_type": "pyout",
       "prompt_number": 3,
       "text": [
        "array([[ 0.48976016, -0.32798304,  0.0169892 ,  0.74306994, -0.57522275],\n",
        "       [-0.08069872,  0.56607603,  0.8542263 , -0.50942975, -0.02562271],\n",
        "       [-0.03468348,  0.40073822, -0.44370091, -0.32121336,  0.70983587],\n",
        "       [ 0.25000019, -0.66574128,  0.17020771,  0.19329412, -0.44936649]])"
       ]
      }
     ],
     "prompt_number": 3
    },
    {
     "cell_type": "markdown",
     "metadata": {},
     "source": [
      "###The finite difference matrix way"
     ]
    },
    {
     "cell_type": "code",
     "collapsed": false,
     "input": [
      "def make_d(dim, axis=-1):\n",
      "    if axis == 0:\n",
      "        diag0 = np.diag([-1.] * dim, k=0)\n",
      "        diag1 = np.diag([1.] * (dim - 1), k=1)\n",
      "        return (diag0 + diag1)[:-1]\n",
      "    elif axis == -1 or axis == 1:\n",
      "        diag0 = np.diag([-1.] * dim, k=0)\n",
      "        diag1 = np.diag([1.] * (dim - 1), k=-1)\n",
      "        return (diag0 + diag1)[:, :-1]\n",
      "    else:\n",
      "        raise NotImplementedError"
     ],
     "language": "python",
     "metadata": {},
     "outputs": [],
     "prompt_number": 4
    },
    {
     "cell_type": "markdown",
     "metadata": {},
     "source": [
      "####Row-wise"
     ]
    },
    {
     "cell_type": "code",
     "collapsed": false,
     "input": [
      "make_d(W.shape[-1], axis=-1) # the finite difference matrix"
     ],
     "language": "python",
     "metadata": {},
     "outputs": [
      {
       "metadata": {},
       "output_type": "pyout",
       "prompt_number": 5,
       "text": [
        "array([[-1.,  0.,  0.,  0.],\n",
        "       [ 1., -1.,  0.,  0.],\n",
        "       [ 0.,  1., -1.,  0.],\n",
        "       [ 0.,  0.,  1., -1.],\n",
        "       [ 0.,  0.,  0.,  1.]])"
       ]
      }
     ],
     "prompt_number": 5
    },
    {
     "cell_type": "code",
     "collapsed": false,
     "input": [
      "np.dot(W, make_d(W.shape[-1], axis=-1))"
     ],
     "language": "python",
     "metadata": {},
     "outputs": [
      {
       "metadata": {},
       "output_type": "pyout",
       "prompt_number": 6,
       "text": [
        "array([[ 0.2357759 , -0.27261147,  0.11912687,  0.59312057],\n",
        "       [-0.5819673 ,  0.07236077,  0.8452076 , -0.72517212],\n",
        "       [ 0.06480745,  0.36051104, -0.51844845, -0.24136508],\n",
        "       [ 0.50022915, -0.48392809, -0.3959609 ,  0.78968415],\n",
        "       [-0.41551233,  0.3520209 , -0.37287448,  0.14702354]])"
       ]
      }
     ],
     "prompt_number": 6
    },
    {
     "cell_type": "code",
     "collapsed": false,
     "input": [
      "np.array_equal(np.diff(W, axis=-1),\n",
      "               np.dot(W, make_d(W.shape[-1], axis=-1)))"
     ],
     "language": "python",
     "metadata": {},
     "outputs": [
      {
       "metadata": {},
       "output_type": "pyout",
       "prompt_number": 7,
       "text": [
        "True"
       ]
      }
     ],
     "prompt_number": 7
    },
    {
     "cell_type": "markdown",
     "metadata": {},
     "source": [
      "####Column-wise"
     ]
    },
    {
     "cell_type": "code",
     "collapsed": false,
     "input": [
      "make_d(W.shape[0], axis=0)"
     ],
     "language": "python",
     "metadata": {},
     "outputs": [
      {
       "metadata": {},
       "output_type": "pyout",
       "prompt_number": 8,
       "text": [
        "array([[-1.,  1.,  0.,  0.,  0.],\n",
        "       [ 0., -1.,  1.,  0.,  0.],\n",
        "       [ 0.,  0., -1.,  1.,  0.],\n",
        "       [ 0.,  0.,  0., -1.,  1.]])"
       ]
      }
     ],
     "prompt_number": 8
    },
    {
     "cell_type": "code",
     "collapsed": false,
     "input": [
      "np.dot(make_d(W.shape[0], axis=0), W)"
     ],
     "language": "python",
     "metadata": {},
     "outputs": [
      {
       "metadata": {},
       "output_type": "pyout",
       "prompt_number": 9,
       "text": [
        "array([[ 0.48976016, -0.32798304,  0.0169892 ,  0.74306994, -0.57522275],\n",
        "       [-0.08069872,  0.56607603,  0.8542263 , -0.50942975, -0.02562271],\n",
        "       [-0.03468348,  0.40073822, -0.44370091, -0.32121336,  0.70983587],\n",
        "       [ 0.25000019, -0.66574128,  0.17020771,  0.19329412, -0.44936649]])"
       ]
      }
     ],
     "prompt_number": 9
    },
    {
     "cell_type": "code",
     "collapsed": false,
     "input": [
      "np.array_equal(np.diff(W, axis=0),\n",
      "               np.dot(make_d(W.shape[0], axis=0), W))"
     ],
     "language": "python",
     "metadata": {},
     "outputs": [
      {
       "metadata": {},
       "output_type": "pyout",
       "prompt_number": 10,
       "text": [
        "True"
       ]
      }
     ],
     "prompt_number": 10
    },
    {
     "cell_type": "markdown",
     "metadata": {},
     "source": [
      "###Ted's matrices"
     ]
    },
    {
     "cell_type": "code",
     "collapsed": false,
     "input": [
      "def make_rowwise_d(dim):\n",
      "    sidedim = int(np.sqrt(dim))\n",
      "    result = np.zeros((dim, dim))\n",
      "    for i in range(dim - 1):\n",
      "        result[i][i] = -1\n",
      "        result[i][i + 1] = 1\n",
      "\n",
      "    tb_full = np.arange(dim - 1)\n",
      "    tb_removed = np.arange(sidedim - 1, dim, sidedim)\n",
      "    tb_keep = np.setdiff1d(tb_full, tb_removed)\n",
      "    result = result[tb_keep, :]\n",
      "    return result\n",
      "\n",
      "def make_columnwise_d(p):\n",
      "    R2 = np.zeros((p, p))\n",
      "    r = int(np.sqrt(p))\n",
      "    for i in range(p - 1 - r):\n",
      "        R2[i][i] = -1\n",
      "        R2[i][i + r] = 1\n",
      "\n",
      "    R2 = R2[:p - r, :]\n",
      "    return R2"
     ],
     "language": "python",
     "metadata": {},
     "outputs": [],
     "prompt_number": 16
    },
    {
     "cell_type": "code",
     "collapsed": false,
     "input": [
      "make_rowwise_d(W.shape[-1]).shape"
     ],
     "language": "python",
     "metadata": {},
     "outputs": [
      {
       "metadata": {},
       "output_type": "pyout",
       "prompt_number": 17,
       "text": [
        "(2, 5)"
       ]
      }
     ],
     "prompt_number": 17
    },
    {
     "cell_type": "code",
     "collapsed": false,
     "input": [
      "make_columnwise_d(W.shape[0]).shape"
     ],
     "language": "python",
     "metadata": {},
     "outputs": [
      {
       "metadata": {},
       "output_type": "pyout",
       "prompt_number": 13,
       "text": [
        "(3, 5)"
       ]
      }
     ],
     "prompt_number": 13
    },
    {
     "cell_type": "code",
     "collapsed": false,
     "input": [],
     "language": "python",
     "metadata": {},
     "outputs": []
    }
   ],
   "metadata": {}
  }
 ]
}