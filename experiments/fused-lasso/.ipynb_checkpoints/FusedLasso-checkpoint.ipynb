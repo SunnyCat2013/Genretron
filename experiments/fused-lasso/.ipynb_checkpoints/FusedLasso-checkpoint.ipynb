{
 "metadata": {
  "name": ""
 },
 "nbformat": 3,
 "nbformat_minor": 0,
 "worksheets": [
  {
   "cells": [
    {
     "cell_type": "markdown",
     "metadata": {},
     "source": [
      "#Fused Lasso\n",
      "##First order discrete difference\n",
      "###[numpy.diff](http://docs.scipy.org/doc/numpy-1.10.0/reference/generated/numpy.diff.html)"
     ]
    },
    {
     "cell_type": "code",
     "collapsed": false,
     "input": [
      "import numpy as np\n",
      "W = np.random.random((5, 5))\n",
      "W # weights"
     ],
     "language": "python",
     "metadata": {},
     "outputs": [
      {
       "metadata": {},
       "output_type": "pyout",
       "prompt_number": 16,
       "text": [
        "array([[ 0.35877417,  0.91581285,  0.76095979,  0.59247795,  0.26864232],\n",
        "       [ 0.8446294 ,  0.015462  ,  0.70904303,  0.6745996 ,  0.32338545],\n",
        "       [ 0.14582807,  0.83787091,  0.24735104,  0.23464393,  0.26663744],\n",
        "       [ 0.06654983,  0.80272492,  0.50283926,  0.84659353,  0.84566877],\n",
        "       [ 0.89468083,  0.28362602,  0.28461646,  0.74250092,  0.14753883]])"
       ]
      }
     ],
     "prompt_number": 16
    },
    {
     "cell_type": "code",
     "collapsed": false,
     "input": [
      "np.diff(W, axis=-1) # expected row-wise result"
     ],
     "language": "python",
     "metadata": {},
     "outputs": [
      {
       "metadata": {},
       "output_type": "pyout",
       "prompt_number": 17,
       "text": [
        "array([[ 0.55703868, -0.15485306, -0.16848184, -0.32383563],\n",
        "       [-0.8291674 ,  0.69358103, -0.03444343, -0.35121415],\n",
        "       [ 0.69204284, -0.59051987, -0.01270711,  0.03199352],\n",
        "       [ 0.73617509, -0.29988565,  0.34375426, -0.00092476],\n",
        "       [-0.61105481,  0.00099044,  0.45788446, -0.59496209]])"
       ]
      }
     ],
     "prompt_number": 17
    },
    {
     "cell_type": "code",
     "collapsed": false,
     "input": [
      "np.diff(W, axis=0)"
     ],
     "language": "python",
     "metadata": {},
     "outputs": [
      {
       "metadata": {},
       "output_type": "pyout",
       "prompt_number": 18,
       "text": [
        "array([[ 0.48585523, -0.90035086, -0.05191676,  0.08212165,  0.05474313],\n",
        "       [-0.69880133,  0.82240891, -0.46169199, -0.43995567, -0.05674801],\n",
        "       [-0.07927825, -0.03514599,  0.25548823,  0.6119496 ,  0.57903132],\n",
        "       [ 0.828131  , -0.5190989 , -0.2182228 , -0.10409261, -0.69812994]])"
       ]
      }
     ],
     "prompt_number": 18
    },
    {
     "cell_type": "markdown",
     "metadata": {},
     "source": [
      "###The finite difference matrix way"
     ]
    },
    {
     "cell_type": "code",
     "collapsed": false,
     "input": [
      "def make_d(dim, axis=-1):\n",
      "    if axis == 0:\n",
      "        diag0 = np.diag([-1.] * dim, k=0)\n",
      "        diag1 = np.diag([1.] * (dim - 1), k=1)\n",
      "        return (diag0 + diag1)[:-1]\n",
      "    elif axis == -1 or axis == 1:\n",
      "        diag0 = np.diag([-1.] * dim, k=0)\n",
      "        diag1 = np.diag([1.] * (dim - 1), k=-1)\n",
      "        return (diag0 + diag1)[:, :-1]\n",
      "    else:\n",
      "        raise NotImplementedError"
     ],
     "language": "python",
     "metadata": {},
     "outputs": [],
     "prompt_number": 19
    },
    {
     "cell_type": "markdown",
     "metadata": {},
     "source": [
      "####Row-wise"
     ]
    },
    {
     "cell_type": "code",
     "collapsed": false,
     "input": [
      "make_d(W.shape[-1], axis=-1) # the finite difference matrix"
     ],
     "language": "python",
     "metadata": {},
     "outputs": [
      {
       "metadata": {},
       "output_type": "pyout",
       "prompt_number": 20,
       "text": [
        "array([[-1.,  0.,  0.,  0.],\n",
        "       [ 1., -1.,  0.,  0.],\n",
        "       [ 0.,  1., -1.,  0.],\n",
        "       [ 0.,  0.,  1., -1.],\n",
        "       [ 0.,  0.,  0.,  1.]])"
       ]
      }
     ],
     "prompt_number": 20
    },
    {
     "cell_type": "code",
     "collapsed": false,
     "input": [
      "np.dot(W, make_d(W.shape[-1], axis=-1))"
     ],
     "language": "python",
     "metadata": {},
     "outputs": [
      {
       "metadata": {},
       "output_type": "pyout",
       "prompt_number": 21,
       "text": [
        "array([[ 0.55703868, -0.15485306, -0.16848184, -0.32383563],\n",
        "       [-0.8291674 ,  0.69358103, -0.03444343, -0.35121415],\n",
        "       [ 0.69204284, -0.59051987, -0.01270711,  0.03199352],\n",
        "       [ 0.73617509, -0.29988565,  0.34375426, -0.00092476],\n",
        "       [-0.61105481,  0.00099044,  0.45788446, -0.59496209]])"
       ]
      }
     ],
     "prompt_number": 21
    },
    {
     "cell_type": "code",
     "collapsed": false,
     "input": [
      "np.array_equal(np.diff(W, axis=-1),\n",
      "               np.dot(W, make_d(W.shape[-1], axis=-1)))"
     ],
     "language": "python",
     "metadata": {},
     "outputs": [
      {
       "metadata": {},
       "output_type": "pyout",
       "prompt_number": 22,
       "text": [
        "True"
       ]
      }
     ],
     "prompt_number": 22
    },
    {
     "cell_type": "markdown",
     "metadata": {},
     "source": [
      "####Column-wise"
     ]
    },
    {
     "cell_type": "code",
     "collapsed": false,
     "input": [
      "make_d(W.shape[0], axis=0)"
     ],
     "language": "python",
     "metadata": {},
     "outputs": [
      {
       "metadata": {},
       "output_type": "pyout",
       "prompt_number": 23,
       "text": [
        "array([[-1.,  1.,  0.,  0.,  0.],\n",
        "       [ 0., -1.,  1.,  0.,  0.],\n",
        "       [ 0.,  0., -1.,  1.,  0.],\n",
        "       [ 0.,  0.,  0., -1.,  1.]])"
       ]
      }
     ],
     "prompt_number": 23
    },
    {
     "cell_type": "code",
     "collapsed": false,
     "input": [
      "np.dot(make_d(W.shape[0], axis=0), W)"
     ],
     "language": "python",
     "metadata": {},
     "outputs": [
      {
       "metadata": {},
       "output_type": "pyout",
       "prompt_number": 24,
       "text": [
        "array([[ 0.48585523, -0.90035086, -0.05191676,  0.08212165,  0.05474313],\n",
        "       [-0.69880133,  0.82240891, -0.46169199, -0.43995567, -0.05674801],\n",
        "       [-0.07927825, -0.03514599,  0.25548823,  0.6119496 ,  0.57903132],\n",
        "       [ 0.828131  , -0.5190989 , -0.2182228 , -0.10409261, -0.69812994]])"
       ]
      }
     ],
     "prompt_number": 24
    },
    {
     "cell_type": "code",
     "collapsed": false,
     "input": [
      "np.array_equal(np.diff(W, axis=0),\n",
      "               np.dot(make_d(W.shape[0], axis=0), W))"
     ],
     "language": "python",
     "metadata": {},
     "outputs": [
      {
       "metadata": {},
       "output_type": "pyout",
       "prompt_number": 25,
       "text": [
        "True"
       ]
      }
     ],
     "prompt_number": 25
    },
    {
     "cell_type": "markdown",
     "metadata": {},
     "source": [
      "###Ted's matrices"
     ]
    },
    {
     "cell_type": "code",
     "collapsed": false,
     "input": [
      "def make_rowwise_d(dim):\n",
      "    sidedim = int(np.sqrt(dim))\n",
      "    result = np.zeros((sidedim, sidedim))\n",
      "    for i in range(dim - 1):\n",
      "        result[i][i] = -1\n",
      "        result[i][i + 1] = 1\n",
      "\n",
      "    tb_full = np.arange(dim - 1)\n",
      "    tb_removed = np.arange(r - 1, dim, r)\n",
      "    tb_keep = np.setdiff1d(tb_full, tb_removed)\n",
      "    result = result[tb_keep, :]\n",
      "    return result\n",
      "\n",
      "def make_columnwise_d(p):\n",
      "    R2 = np.zeros((p, p))\n",
      "    r = int(np.sqrt(p))\n",
      "    for i in range(p - 1 - r):\n",
      "        R2[i][i] = -1\n",
      "        R2[i][i + r] = 1\n",
      "\n",
      "    R2 = R2[:p - r, :]\n",
      "    return R2"
     ],
     "language": "python",
     "metadata": {},
     "outputs": [],
     "prompt_number": 26
    },
    {
     "cell_type": "code",
     "collapsed": false,
     "input": [
      "make_rowwise_d(W.shape[-1]).shape"
     ],
     "language": "python",
     "metadata": {},
     "outputs": [
      {
       "metadata": {},
       "output_type": "pyout",
       "prompt_number": 27,
       "text": [
        "(2, 5)"
       ]
      }
     ],
     "prompt_number": 27
    },
    {
     "cell_type": "code",
     "collapsed": false,
     "input": [
      "make_columnwise_d(W.shape[0]).shape"
     ],
     "language": "python",
     "metadata": {},
     "outputs": [
      {
       "metadata": {},
       "output_type": "pyout",
       "prompt_number": 28,
       "text": [
        "(3, 5)"
       ]
      }
     ],
     "prompt_number": 28
    }
   ],
   "metadata": {}
  }
 ]
}